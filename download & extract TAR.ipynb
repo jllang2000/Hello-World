{
 "cells": [
  {
   "cell_type": "code",
   "execution_count": 18,
   "metadata": {
    "collapsed": true
   },
   "outputs": [],
   "source": [
    "import urllib2, tarfile"
   ]
  },
  {
   "cell_type": "code",
   "execution_count": 6,
   "metadata": {
    "collapsed": true
   },
   "outputs": [],
   "source": [
    "url = 'http://snap.stanford.edu/data/'"
   ]
  },
  {
   "cell_type": "code",
   "execution_count": 7,
   "metadata": {
    "collapsed": true
   },
   "outputs": [],
   "source": [
    "filename='facebook.tar.gz'"
   ]
  },
  {
   "cell_type": "code",
   "execution_count": 32,
   "metadata": {
    "collapsed": false
   },
   "outputs": [],
   "source": [
    "downloaded = urllib2.urlopen(url+filename)"
   ]
  },
  {
   "cell_type": "code",
   "execution_count": 9,
   "metadata": {
    "collapsed": true
   },
   "outputs": [],
   "source": [
    "folder = 'data'"
   ]
  },
  {
   "cell_type": "code",
   "execution_count": 11,
   "metadata": {
    "collapsed": false
   },
   "outputs": [],
   "source": [
    "mkdir $folder"
   ]
  },
  {
   "cell_type": "code",
   "execution_count": 12,
   "metadata": {
    "collapsed": false
   },
   "outputs": [
    {
     "name": "stdout",
     "output_type": "stream",
     "text": [
      "X:\\FTMAS_GTAA\\P\\ToJoyce\\iPython\\data\n"
     ]
    }
   ],
   "source": [
    "cd $folder"
   ]
  },
  {
   "cell_type": "code",
   "execution_count": 33,
   "metadata": {
    "collapsed": true
   },
   "outputs": [],
   "source": [
    "with open(filename,'wb') as f:\n",
    "    f.write(downloaded.read())"
   ]
  },
  {
   "cell_type": "code",
   "execution_count": 34,
   "metadata": {
    "collapsed": false
   },
   "outputs": [],
   "source": [
    "with tarfile.open(filename, 'r') as tar:\n",
    "    tar.extractall('.')"
   ]
  },
  {
   "cell_type": "code",
   "execution_count": 36,
   "metadata": {
    "collapsed": false
   },
   "outputs": [
    {
     "name": "stdout",
     "output_type": "stream",
     "text": [
      "X:\\FTMAS_GTAA\\P\\ToJoyce\\iPython\\data\\facebook\n"
     ]
    }
   ],
   "source": [
    "cd facebook"
   ]
  },
  {
   "cell_type": "code",
   "execution_count": 37,
   "metadata": {
    "collapsed": false
   },
   "outputs": [
    {
     "name": "stdout",
     "output_type": "stream",
     "text": [
      " Volume in drive X is smo2\n",
      " Volume Serial Number is 2F01-9246\n",
      "\n",
      " Directory of X:\\FTMAS_GTAA\\P\\ToJoyce\\iPython\\data\\facebook\n",
      "\n",
      "05/08/2017  03:42 PM    <DIR>          .\n",
      "05/08/2017  03:42 PM    <DIR>          ..\n",
      "12/02/2012  08:14 PM             1,400 0.circles\n",
      "12/02/2012  08:14 PM            37,228 0.edges\n",
      "12/02/2012  08:14 PM               448 0.egofeat\n",
      "12/02/2012  08:14 PM           156,736 0.feat\n",
      "12/02/2012  08:14 PM             9,303 0.featnames\n",
      "12/02/2012  08:14 PM             2,510 107.circles\n",
      "12/02/2012  08:14 PM           523,802 107.edges\n",
      "12/02/2012  08:14 PM             1,152 107.egofeat\n",
      "12/02/2012  08:14 PM         1,208,929 107.feat\n",
      "12/02/2012  08:14 PM            25,125 107.featnames\n",
      "12/02/2012  08:15 PM             4,022 1684.circles\n",
      "12/02/2012  08:15 PM           280,354 1684.edges\n",
      "12/02/2012  08:15 PM               638 1684.egofeat\n",
      "12/02/2012  08:15 PM           509,250 1684.feat\n",
      "12/02/2012  08:15 PM            13,568 1684.featnames\n",
      "12/02/2012  08:15 PM             5,716 1912.circles\n",
      "12/02/2012  08:15 PM           600,274 1912.edges\n",
      "12/02/2012  08:15 PM               960 1912.egofeat\n",
      "12/02/2012  08:15 PM           728,570 1912.feat\n",
      "12/02/2012  08:15 PM            20,993 1912.featnames\n",
      "12/02/2012  08:15 PM             1,238 3437.circles\n",
      "12/02/2012  08:15 PM            96,188 3437.edges\n",
      "12/02/2012  08:15 PM               524 3437.egofeat\n",
      "12/02/2012  08:15 PM           289,359 3437.feat\n",
      "12/02/2012  08:15 PM            11,230 3437.featnames\n",
      "12/02/2012  08:14 PM             2,382 348.circles\n",
      "12/02/2012  08:14 PM            51,066 348.edges\n",
      "12/02/2012  08:14 PM               322 348.egofeat\n",
      "12/02/2012  08:14 PM            74,001 348.feat\n",
      "12/02/2012  08:14 PM             6,801 348.featnames\n",
      "12/02/2012  08:15 PM               432 3980.circles\n",
      "12/02/2012  08:15 PM             2,914 3980.edges\n",
      "12/02/2012  08:15 PM                84 3980.egofeat\n",
      "12/02/2012  08:15 PM             5,250 3980.feat\n",
      "12/02/2012  08:15 PM             1,718 3980.featnames\n",
      "12/02/2012  08:14 PM               768 414.circles\n",
      "12/02/2012  08:14 PM            27,082 414.edges\n",
      "12/02/2012  08:14 PM               210 414.egofeat\n",
      "12/02/2012  08:14 PM            34,025 414.feat\n",
      "12/02/2012  08:14 PM             4,397 414.featnames\n",
      "12/02/2012  08:14 PM             2,056 686.circles\n",
      "12/02/2012  08:14 PM            26,496 686.edges\n",
      "12/02/2012  08:14 PM               126 686.egofeat\n",
      "12/02/2012  08:14 PM            22,100 686.feat\n",
      "12/02/2012  08:14 PM             2,578 686.featnames\n",
      "12/02/2012  08:14 PM               447 698.circles\n",
      "12/02/2012  08:14 PM             4,320 698.edges\n",
      "12/02/2012  08:14 PM                96 698.egofeat\n",
      "12/02/2012  08:14 PM             6,600 698.feat\n",
      "12/02/2012  08:14 PM             1,951 698.featnames\n",
      "              50 File(s)      4,815,931 bytes\n",
      "               2 Dir(s)  859,949,498,368 bytes free\n"
     ]
    }
   ],
   "source": [
    "ls"
   ]
  },
  {
   "cell_type": "code",
   "execution_count": 38,
   "metadata": {
    "collapsed": true
   },
   "outputs": [],
   "source": [
    "%bookmark fbdata"
   ]
  },
  {
   "cell_type": "code",
   "execution_count": 45,
   "metadata": {
    "collapsed": false
   },
   "outputs": [],
   "source": [
    "%run egos.py data/facebook"
   ]
  },
  {
   "cell_type": "code",
   "execution_count": 43,
   "metadata": {
    "collapsed": false
   },
   "outputs": [
    {
     "name": "stdout",
     "output_type": "stream",
     "text": [
      "X:\\FTMAS_GTAA\\P\\ToJoyce\\iPython\\data\n"
     ]
    }
   ],
   "source": [
    "cd .."
   ]
  },
  {
   "cell_type": "code",
   "execution_count": 44,
   "metadata": {
    "collapsed": false
   },
   "outputs": [
    {
     "name": "stdout",
     "output_type": "stream",
     "text": [
      "X:\\FTMAS_GTAA\\P\\ToJoyce\\iPython\n"
     ]
    }
   ],
   "source": [
    "cd .."
   ]
  },
  {
   "cell_type": "code",
   "execution_count": 46,
   "metadata": {
    "collapsed": false
   },
   "outputs": [
    {
     "data": {
      "text/plain": [
       "[0, 107, 348, 414, 686, 698, 1684, 1912, 3437, 3980]"
      ]
     },
     "execution_count": 46,
     "metadata": {},
     "output_type": "execute_result"
    }
   ],
   "source": [
    "ids"
   ]
  },
  {
   "cell_type": "code",
   "execution_count": 47,
   "metadata": {
    "collapsed": true
   },
   "outputs": [],
   "source": [
    "folder = 'data/facebook'"
   ]
  },
  {
   "cell_type": "code",
   "execution_count": null,
   "metadata": {
    "collapsed": true
   },
   "outputs": [],
   "source": []
  }
 ],
 "metadata": {
  "kernelspec": {
   "display_name": "Python 2",
   "language": "python",
   "name": "python2"
  },
  "language_info": {
   "codemirror_mode": {
    "name": "ipython",
    "version": 2
   },
   "file_extension": ".py",
   "mimetype": "text/x-python",
   "name": "python",
   "nbconvert_exporter": "python",
   "pygments_lexer": "ipython2",
   "version": "2.7.13"
  }
 },
 "nbformat": 4,
 "nbformat_minor": 2
}
