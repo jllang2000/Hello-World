{
 "cells": [
  {
   "cell_type": "code",
   "execution_count": 21,
   "metadata": {
    "collapsed": true
   },
   "outputs": [],
   "source": [
    "import urllib2, zipfile"
   ]
  },
  {
   "cell_type": "code",
   "execution_count": 15,
   "metadata": {
    "collapsed": true
   },
   "outputs": [],
   "source": [
    "url = 'http://geolite.maxmind.com/download/geoip/database/'"
   ]
  },
  {
   "cell_type": "code",
   "execution_count": 16,
   "metadata": {
    "collapsed": true
   },
   "outputs": [],
   "source": [
    "filename='GeoLite2-City-CSV.zip'"
   ]
  },
  {
   "cell_type": "code",
   "execution_count": 17,
   "metadata": {
    "collapsed": false
   },
   "outputs": [],
   "source": [
    "downloaded = urllib2.urlopen(url+filename)"
   ]
  },
  {
   "cell_type": "code",
   "execution_count": 6,
   "metadata": {
    "collapsed": true
   },
   "outputs": [],
   "source": [
    "folder = 'data'"
   ]
  },
  {
   "cell_type": "code",
   "execution_count": null,
   "metadata": {
    "collapsed": false
   },
   "outputs": [],
   "source": [
    "# mkdir $folder"
   ]
  },
  {
   "cell_type": "code",
   "execution_count": 7,
   "metadata": {
    "collapsed": false
   },
   "outputs": [
    {
     "name": "stdout",
     "output_type": "stream",
     "text": [
      "X:\\FTMAS_GTAA\\P\\ToJoyce\\iPython\\data\n"
     ]
    }
   ],
   "source": [
    "cd $folder"
   ]
  },
  {
   "cell_type": "code",
   "execution_count": 18,
   "metadata": {
    "collapsed": false
   },
   "outputs": [],
   "source": [
    "with open(filename,'wb') as f:\n",
    "    f.write(downloaded.read())"
   ]
  },
  {
   "cell_type": "code",
   "execution_count": null,
   "metadata": {
    "collapsed": false
   },
   "outputs": [],
   "source": [
    "with tarfile.open(filename, 'r') as tar:\n",
    "    tar.extractall('.')"
   ]
  },
  {
   "cell_type": "code",
   "execution_count": 22,
   "metadata": {
    "collapsed": false
   },
   "outputs": [],
   "source": [
    "with zipfile.ZipFile(filename) as zip:\n",
    "    zip.extractall('.')"
   ]
  },
  {
   "cell_type": "code",
   "execution_count": 8,
   "metadata": {
    "collapsed": false
   },
   "outputs": [
    {
     "name": "stdout",
     "output_type": "stream",
     "text": [
      "X:\\FTMAS_GTAA\\P\\ToJoyce\\iPython\\data\\GeoLite2-City-CSV_20170502\n"
     ]
    }
   ],
   "source": [
    "cd GeoLite2-City-CSV_20170502"
   ]
  },
  {
   "cell_type": "code",
   "execution_count": 9,
   "metadata": {
    "collapsed": false
   },
   "outputs": [
    {
     "name": "stdout",
     "output_type": "stream",
     "text": [
      " Volume in drive X is smo2\n",
      " Volume Serial Number is 2F01-9246\n",
      "\n",
      " Directory of X:\\FTMAS_GTAA\\P\\ToJoyce\\iPython\\data\\GeoLite2-City-CSV_20170502\n",
      "\n",
      "05/09/2017  02:30 PM    <DIR>          .\n",
      "05/09/2017  02:30 PM    <DIR>          ..\n",
      "05/09/2017  02:30 PM                55 COPYRIGHT.txt\n",
      "05/09/2017  02:30 PM       180,225,584 GeoLite2-City-Blocks-IPv4.csv\n",
      "05/09/2017  02:30 PM        36,493,592 GeoLite2-City-Blocks-IPv6.csv\n",
      "05/09/2017  02:30 PM         6,732,431 GeoLite2-City-Locations-de.csv\n",
      "05/09/2017  02:30 PM         8,600,477 GeoLite2-City-Locations-en.csv\n",
      "05/09/2017  02:30 PM         7,071,639 GeoLite2-City-Locations-es.csv\n",
      "05/09/2017  02:30 PM         7,723,924 GeoLite2-City-Locations-fr.csv\n",
      "05/09/2017  02:30 PM         9,775,104 GeoLite2-City-Locations-ja.csv\n",
      "05/09/2017  02:30 PM         7,362,964 GeoLite2-City-Locations-pt-BR.csv\n",
      "05/09/2017  02:30 PM         9,714,355 GeoLite2-City-Locations-ru.csv\n",
      "05/09/2017  02:30 PM         7,403,738 GeoLite2-City-Locations-zh-CN.csv\n",
      "05/09/2017  02:30 PM               433 LICENSE.txt\n",
      "              12 File(s)    281,112,488 bytes\n",
      "               2 Dir(s)  859,136,090,112 bytes free\n"
     ]
    }
   ],
   "source": [
    "ls"
   ]
  },
  {
   "cell_type": "code",
   "execution_count": 10,
   "metadata": {
    "collapsed": true
   },
   "outputs": [],
   "source": [
    "%bookmark mmData"
   ]
  },
  {
   "cell_type": "code",
   "execution_count": 11,
   "metadata": {
    "collapsed": false
   },
   "outputs": [],
   "source": [
    "import pandas as pd"
   ]
  },
  {
   "cell_type": "code",
   "execution_count": 12,
   "metadata": {
    "collapsed": false
   },
   "outputs": [],
   "source": [
    "filename = 'GeoLite2-City-Locations-de.csv'\n",
    "data = pd.read_csv(filename)"
   ]
  },
  {
   "cell_type": "code",
   "execution_count": 13,
   "metadata": {
    "collapsed": false
   },
   "outputs": [
    {
     "data": {
      "text/plain": [
       "pandas.core.frame.DataFrame"
      ]
     },
     "execution_count": 13,
     "metadata": {},
     "output_type": "execute_result"
    }
   ],
   "source": [
    "type(data)"
   ]
  },
  {
   "cell_type": "code",
   "execution_count": 14,
   "metadata": {
    "collapsed": false
   },
   "outputs": [
    {
     "data": {
      "text/plain": [
       "((99765, 13),\n",
       " Index([u'geoname_id', u'locale_code', u'continent_code', u'continent_name',\n",
       "        u'country_iso_code', u'country_name', u'subdivision_1_iso_code',\n",
       "        u'subdivision_1_name', u'subdivision_2_iso_code', u'subdivision_2_name',\n",
       "        u'city_name', u'metro_code', u'time_zone'],\n",
       "       dtype='object'))"
      ]
     },
     "execution_count": 14,
     "metadata": {},
     "output_type": "execute_result"
    }
   ],
   "source": [
    "data.shape, data.keys()"
   ]
  },
  {
   "cell_type": "code",
   "execution_count": 15,
   "metadata": {
    "collapsed": false
   },
   "outputs": [
    {
     "data": {
      "text/html": [
       "<div>\n",
       "<table border=\"1\" class=\"dataframe\">\n",
       "  <thead>\n",
       "    <tr style=\"text-align: right;\">\n",
       "      <th></th>\n",
       "      <th>geoname_id</th>\n",
       "      <th>locale_code</th>\n",
       "      <th>continent_code</th>\n",
       "      <th>continent_name</th>\n",
       "      <th>country_iso_code</th>\n",
       "      <th>country_name</th>\n",
       "      <th>subdivision_1_iso_code</th>\n",
       "      <th>subdivision_1_name</th>\n",
       "      <th>subdivision_2_iso_code</th>\n",
       "      <th>subdivision_2_name</th>\n",
       "      <th>city_name</th>\n",
       "      <th>metro_code</th>\n",
       "      <th>time_zone</th>\n",
       "    </tr>\n",
       "  </thead>\n",
       "  <tbody>\n",
       "    <tr>\n",
       "      <th>99760</th>\n",
       "      <td>11467773</td>\n",
       "      <td>de</td>\n",
       "      <td>AS</td>\n",
       "      <td>Asien</td>\n",
       "      <td>ID</td>\n",
       "      <td>Indonesien</td>\n",
       "      <td>BA</td>\n",
       "      <td>NaN</td>\n",
       "      <td>NaN</td>\n",
       "      <td>NaN</td>\n",
       "      <td>NaN</td>\n",
       "      <td>NaN</td>\n",
       "      <td>Asia/Makassar</td>\n",
       "    </tr>\n",
       "    <tr>\n",
       "      <th>99761</th>\n",
       "      <td>11468270</td>\n",
       "      <td>de</td>\n",
       "      <td>AS</td>\n",
       "      <td>Asien</td>\n",
       "      <td>JP</td>\n",
       "      <td>Japan</td>\n",
       "      <td>24</td>\n",
       "      <td>NaN</td>\n",
       "      <td>NaN</td>\n",
       "      <td>NaN</td>\n",
       "      <td>NaN</td>\n",
       "      <td>NaN</td>\n",
       "      <td>Asia/Tokyo</td>\n",
       "    </tr>\n",
       "    <tr>\n",
       "      <th>99762</th>\n",
       "      <td>11468429</td>\n",
       "      <td>de</td>\n",
       "      <td>AS</td>\n",
       "      <td>Asien</td>\n",
       "      <td>JP</td>\n",
       "      <td>Japan</td>\n",
       "      <td>24</td>\n",
       "      <td>NaN</td>\n",
       "      <td>NaN</td>\n",
       "      <td>NaN</td>\n",
       "      <td>NaN</td>\n",
       "      <td>NaN</td>\n",
       "      <td>Asia/Tokyo</td>\n",
       "    </tr>\n",
       "    <tr>\n",
       "      <th>99763</th>\n",
       "      <td>11468431</td>\n",
       "      <td>de</td>\n",
       "      <td>AS</td>\n",
       "      <td>Asien</td>\n",
       "      <td>JP</td>\n",
       "      <td>Japan</td>\n",
       "      <td>24</td>\n",
       "      <td>NaN</td>\n",
       "      <td>NaN</td>\n",
       "      <td>NaN</td>\n",
       "      <td>NaN</td>\n",
       "      <td>NaN</td>\n",
       "      <td>Asia/Tokyo</td>\n",
       "    </tr>\n",
       "    <tr>\n",
       "      <th>99764</th>\n",
       "      <td>11497233</td>\n",
       "      <td>de</td>\n",
       "      <td>OC</td>\n",
       "      <td>Ozeanien</td>\n",
       "      <td>AU</td>\n",
       "      <td>Australien</td>\n",
       "      <td>NSW</td>\n",
       "      <td>NaN</td>\n",
       "      <td>NaN</td>\n",
       "      <td>NaN</td>\n",
       "      <td>NaN</td>\n",
       "      <td>NaN</td>\n",
       "      <td>Australia/Sydney</td>\n",
       "    </tr>\n",
       "  </tbody>\n",
       "</table>\n",
       "</div>"
      ],
      "text/plain": [
       "       geoname_id locale_code continent_code continent_name country_iso_code  \\\n",
       "99760    11467773          de             AS          Asien               ID   \n",
       "99761    11468270          de             AS          Asien               JP   \n",
       "99762    11468429          de             AS          Asien               JP   \n",
       "99763    11468431          de             AS          Asien               JP   \n",
       "99764    11497233          de             OC       Ozeanien               AU   \n",
       "\n",
       "      country_name subdivision_1_iso_code subdivision_1_name  \\\n",
       "99760   Indonesien                     BA                NaN   \n",
       "99761        Japan                     24                NaN   \n",
       "99762        Japan                     24                NaN   \n",
       "99763        Japan                     24                NaN   \n",
       "99764   Australien                    NSW                NaN   \n",
       "\n",
       "      subdivision_2_iso_code subdivision_2_name city_name  metro_code  \\\n",
       "99760                    NaN                NaN       NaN         NaN   \n",
       "99761                    NaN                NaN       NaN         NaN   \n",
       "99762                    NaN                NaN       NaN         NaN   \n",
       "99763                    NaN                NaN       NaN         NaN   \n",
       "99764                    NaN                NaN       NaN         NaN   \n",
       "\n",
       "              time_zone  \n",
       "99760     Asia/Makassar  \n",
       "99761        Asia/Tokyo  \n",
       "99762        Asia/Tokyo  \n",
       "99763        Asia/Tokyo  \n",
       "99764  Australia/Sydney  "
      ]
     },
     "execution_count": 15,
     "metadata": {},
     "output_type": "execute_result"
    }
   ],
   "source": [
    "data.tail()"
   ]
  },
  {
   "cell_type": "code",
   "execution_count": 47,
   "metadata": {
    "collapsed": true
   },
   "outputs": [],
   "source": [
    "folder = 'data/facebook'"
   ]
  },
  {
   "cell_type": "code",
   "execution_count": 18,
   "metadata": {
    "collapsed": false
   },
   "outputs": [
    {
     "data": {
      "text/plain": [
       "0     Ruanda\n",
       "1    Somalia\n",
       "2    Somalia\n",
       "3    Somalia\n",
       "4      Jemen\n",
       "Name: country_name, dtype: object"
      ]
     },
     "execution_count": 18,
     "metadata": {},
     "output_type": "execute_result"
    }
   ],
   "source": [
    "data.country_name.head()"
   ]
  },
  {
   "cell_type": "code",
   "execution_count": 20,
   "metadata": {
    "collapsed": false
   },
   "outputs": [
    {
     "data": {
      "text/plain": [
       "'Jemen'"
      ]
     },
     "execution_count": 20,
     "metadata": {},
     "output_type": "execute_result"
    }
   ],
   "source": [
    "data.country_name[4]"
   ]
  },
  {
   "cell_type": "code",
   "execution_count": 21,
   "metadata": {
    "collapsed": false
   },
   "outputs": [
    {
     "data": {
      "text/html": [
       "<div>\n",
       "<table border=\"1\" class=\"dataframe\">\n",
       "  <thead>\n",
       "    <tr style=\"text-align: right;\">\n",
       "      <th></th>\n",
       "      <th>geoname_id</th>\n",
       "      <th>locale_code</th>\n",
       "      <th>continent_code</th>\n",
       "      <th>continent_name</th>\n",
       "      <th>country_iso_code</th>\n",
       "      <th>country_name</th>\n",
       "      <th>subdivision_1_iso_code</th>\n",
       "      <th>subdivision_1_name</th>\n",
       "      <th>subdivision_2_iso_code</th>\n",
       "      <th>subdivision_2_name</th>\n",
       "      <th>city_name</th>\n",
       "      <th>metro_code</th>\n",
       "      <th>time_zone</th>\n",
       "    </tr>\n",
       "  </thead>\n",
       "  <tbody>\n",
       "    <tr>\n",
       "      <th>1</th>\n",
       "      <td>51537</td>\n",
       "      <td>de</td>\n",
       "      <td>AF</td>\n",
       "      <td>Afrika</td>\n",
       "      <td>SO</td>\n",
       "      <td>Somalia</td>\n",
       "      <td>NaN</td>\n",
       "      <td>NaN</td>\n",
       "      <td>NaN</td>\n",
       "      <td>NaN</td>\n",
       "      <td>NaN</td>\n",
       "      <td>NaN</td>\n",
       "      <td>Africa/Mogadishu</td>\n",
       "    </tr>\n",
       "    <tr>\n",
       "      <th>2</th>\n",
       "      <td>53654</td>\n",
       "      <td>de</td>\n",
       "      <td>AF</td>\n",
       "      <td>Afrika</td>\n",
       "      <td>SO</td>\n",
       "      <td>Somalia</td>\n",
       "      <td>BN</td>\n",
       "      <td>NaN</td>\n",
       "      <td>NaN</td>\n",
       "      <td>NaN</td>\n",
       "      <td>Mogadischu</td>\n",
       "      <td>NaN</td>\n",
       "      <td>Africa/Mogadishu</td>\n",
       "    </tr>\n",
       "    <tr>\n",
       "      <th>3</th>\n",
       "      <td>57289</td>\n",
       "      <td>de</td>\n",
       "      <td>AF</td>\n",
       "      <td>Afrika</td>\n",
       "      <td>SO</td>\n",
       "      <td>Somalia</td>\n",
       "      <td>WO</td>\n",
       "      <td>NaN</td>\n",
       "      <td>NaN</td>\n",
       "      <td>NaN</td>\n",
       "      <td>NaN</td>\n",
       "      <td>NaN</td>\n",
       "      <td>Africa/Mogadishu</td>\n",
       "    </tr>\n",
       "    <tr>\n",
       "      <th>95607</th>\n",
       "      <td>6773456</td>\n",
       "      <td>de</td>\n",
       "      <td>AF</td>\n",
       "      <td>Afrika</td>\n",
       "      <td>SO</td>\n",
       "      <td>Somalia</td>\n",
       "      <td>GE</td>\n",
       "      <td>NaN</td>\n",
       "      <td>NaN</td>\n",
       "      <td>NaN</td>\n",
       "      <td>NaN</td>\n",
       "      <td>NaN</td>\n",
       "      <td>Africa/Mogadishu</td>\n",
       "    </tr>\n",
       "  </tbody>\n",
       "</table>\n",
       "</div>"
      ],
      "text/plain": [
       "       geoname_id locale_code continent_code continent_name country_iso_code  \\\n",
       "1           51537          de             AF         Afrika               SO   \n",
       "2           53654          de             AF         Afrika               SO   \n",
       "3           57289          de             AF         Afrika               SO   \n",
       "95607     6773456          de             AF         Afrika               SO   \n",
       "\n",
       "      country_name subdivision_1_iso_code subdivision_1_name  \\\n",
       "1          Somalia                    NaN                NaN   \n",
       "2          Somalia                     BN                NaN   \n",
       "3          Somalia                     WO                NaN   \n",
       "95607      Somalia                     GE                NaN   \n",
       "\n",
       "      subdivision_2_iso_code subdivision_2_name   city_name  metro_code  \\\n",
       "1                        NaN                NaN         NaN         NaN   \n",
       "2                        NaN                NaN  Mogadischu         NaN   \n",
       "3                        NaN                NaN         NaN         NaN   \n",
       "95607                    NaN                NaN         NaN         NaN   \n",
       "\n",
       "              time_zone  \n",
       "1      Africa/Mogadishu  \n",
       "2      Africa/Mogadishu  \n",
       "3      Africa/Mogadishu  \n",
       "95607  Africa/Mogadishu  "
      ]
     },
     "execution_count": 21,
     "metadata": {},
     "output_type": "execute_result"
    }
   ],
   "source": [
    "data[data.country_name=='Somalia']"
   ]
  },
  {
   "cell_type": "code",
   "execution_count": 22,
   "metadata": {
    "collapsed": false
   },
   "outputs": [
    {
     "data": {
      "text/plain": [
       "geoname_id                    69543\n",
       "locale_code                      de\n",
       "continent_code                   AS\n",
       "continent_name                Asien\n",
       "country_iso_code                 YE\n",
       "country_name                  Jemen\n",
       "subdivision_1_iso_code          NaN\n",
       "subdivision_1_name              NaN\n",
       "subdivision_2_iso_code          NaN\n",
       "subdivision_2_name              NaN\n",
       "city_name                       NaN\n",
       "metro_code                      NaN\n",
       "time_zone                 Asia/Aden\n",
       "Name: 4, dtype: object"
      ]
     },
     "execution_count": 22,
     "metadata": {},
     "output_type": "execute_result"
    }
   ],
   "source": [
    "data.ix[4]"
   ]
  },
  {
   "cell_type": "code",
   "execution_count": null,
   "metadata": {
    "collapsed": true
   },
   "outputs": [],
   "source": []
  }
 ],
 "metadata": {
  "kernelspec": {
   "display_name": "Python 2",
   "language": "python",
   "name": "python2"
  },
  "language_info": {
   "codemirror_mode": {
    "name": "ipython",
    "version": 2
   },
   "file_extension": ".py",
   "mimetype": "text/x-python",
   "name": "python",
   "nbconvert_exporter": "python",
   "pygments_lexer": "ipython2",
   "version": "2.7.13"
  }
 },
 "nbformat": 4,
 "nbformat_minor": 2
}
